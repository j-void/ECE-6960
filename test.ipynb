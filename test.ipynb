{
 "cells": [
  {
   "cell_type": "code",
   "execution_count": 3,
   "metadata": {},
   "outputs": [],
   "source": [
    "import numpy as np"
   ]
  },
  {
   "cell_type": "code",
   "execution_count": 25,
   "metadata": {},
   "outputs": [
    {
     "name": "stdout",
     "output_type": "stream",
     "text": [
      "[[  1.   3.   9.  27.]\n",
      " [  1.   5.  25. 125.]\n",
      " [  1.   6.  36. 216.]]\n",
      "142.0\n",
      "586.0\n",
      "985.0\n",
      "(3, 1)\n"
     ]
    }
   ],
   "source": [
    "a = np.array([1, 2, 3, 4])\n",
    "x = np.array([3, 5, 6])\n",
    "X = np.ones((len(x), len(a)))\n",
    "X[:,1] = x\n",
    "X[:,2] = x**2\n",
    "X[:,3] = x**3\n",
    "print(X)\n",
    "y = np.einsum('i,ji->j',a, X)\n",
    "for i in range(X.shape[0]):\n",
    "    print(np.dot(X[i], a))\n",
    "y = y.reshape(-1, 1)\n",
    "print(y.shape)\n"
   ]
  },
  {
   "cell_type": "code",
   "execution_count": 30,
   "metadata": {},
   "outputs": [
    {
     "name": "stdout",
     "output_type": "stream",
     "text": [
      "[[  1.   3.   9.  27.]\n",
      " [  1.   5.  25. 125.]\n",
      " [  1.   6.  36. 216.]]\n"
     ]
    }
   ],
   "source": [
    "X1 = np.array([np.ones(len(x)), x, x**2, x**3]).T\n",
    "print(X1)"
   ]
  },
  {
   "cell_type": "code",
   "execution_count": 35,
   "metadata": {},
   "outputs": [
    {
     "name": "stdout",
     "output_type": "stream",
     "text": [
      "[[   3    9   27   81    1]\n",
      " [   5   25  125  625    1]\n",
      " [   6   36  216 1296    1]]\n"
     ]
    }
   ],
   "source": [
    "Xl = []\n",
    "for i in range(4):\n",
    "    Xl.append(x**(i+1))\n",
    "Xl.append(np.ones(len(x)))\n",
    "X1 = np.array(Xl).astype(int).T\n",
    "print(X1)"
   ]
  },
  {
   "cell_type": "code",
   "execution_count": 37,
   "metadata": {},
   "outputs": [
    {
     "name": "stdout",
     "output_type": "stream",
     "text": [
      "[[ 3.55626657]\n",
      " [-4.85071512]\n",
      " [13.58932204]\n",
      " [-9.0132505 ]\n",
      " [ 1.75782422]]\n"
     ]
    }
   ],
   "source": [
    "expected_coeffs_ex12 = np.expand_dims(np.array(\\\n",
    "                            [3.55626657,-4.85071512,13.58932204,-9.0132505,1.75782422]),axis=1)\n",
    "print(expected_coeffs_ex12)"
   ]
  },
  {
   "cell_type": "code",
   "execution_count": 36,
   "metadata": {},
   "outputs": [
    {
     "ename": "NameError",
     "evalue": "name 'targets' is not defined",
     "output_type": "error",
     "traceback": [
      "\u001b[0;31m---------------------------------------------------------------------------\u001b[0m",
      "\u001b[0;31mNameError\u001b[0m                                 Traceback (most recent call last)",
      "Cell \u001b[0;32mIn[36], line 1\u001b[0m\n\u001b[0;32m----> 1\u001b[0m w \u001b[39m=\u001b[39m np\u001b[39m.\u001b[39mlinalg\u001b[39m.\u001b[39minv(X\u001b[39m.\u001b[39mT \u001b[39m@\u001b[39m X) \u001b[39m@\u001b[39m X\u001b[39m.\u001b[39mT \u001b[39m@\u001b[39m targets\n\u001b[1;32m      2\u001b[0m \u001b[39mprint\u001b[39m(w)\n",
      "\u001b[0;31mNameError\u001b[0m: name 'targets' is not defined"
     ]
    }
   ],
   "source": [
    "w = np.linalg.inv(X.T @ X) @ X.T @ targets\n",
    "print(w)"
   ]
  },
  {
   "cell_type": "code",
   "execution_count": null,
   "metadata": {},
   "outputs": [],
   "source": []
  }
 ],
 "metadata": {
  "kernelspec": {
   "display_name": "dlia",
   "language": "python",
   "name": "python3"
  },
  "language_info": {
   "codemirror_mode": {
    "name": "ipython",
    "version": 3
   },
   "file_extension": ".py",
   "mimetype": "text/x-python",
   "name": "python",
   "nbconvert_exporter": "python",
   "pygments_lexer": "ipython3",
   "version": "3.11.0"
  },
  "orig_nbformat": 4,
  "vscode": {
   "interpreter": {
    "hash": "8a5edab282632443219e051e4ade2d1d5bbc671c781051bf1437897cbdfea0f1"
   }
  }
 },
 "nbformat": 4,
 "nbformat_minor": 2
}
